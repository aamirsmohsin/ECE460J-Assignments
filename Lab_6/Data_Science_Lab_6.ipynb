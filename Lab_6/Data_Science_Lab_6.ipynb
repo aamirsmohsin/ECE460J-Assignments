{
 "cells": [
  {
   "cell_type": "markdown",
   "metadata": {
    "id": "vMQXDZXXN8q2"
   },
   "source": [
    "# Data Science Lab: Lab 6\n",
    "\n",
    "Submit:\n",
    "\n",
    "A pdf of your notebook with solutions.\n",
    "A link to your colab notebook or also upload your .ipynb if not working on colab.\n",
    "\n",
    "# Goals of this Lab\n",
    "\n",
    "**Fully Connected Models and XOR**\n",
    "\n",
    "\n",
    "1. How to create data objects that pytorch can use\n",
    "2. How to create a dataloader\n",
    "3. How to define a basic fully connected single layer model\n",
    "4. How to define a multi-layer fully connected model\n",
    "5. How to add non-linear activation functions.\n",
    "6. How to add layers in two different ways\n",
    "\n",
    "We also see the importance of nonlinear activation functions directly, by experimenting with the simple 4-data-point XOR example that we saw in class.\n",
    "\n",
    "We also see that neural networks are fundamentally different than, say, logistic regression or linear regression, in that they can get stuck in local minima. A simple way to say this is that a different random seed may lead to a different solution.\n",
    "\n",
    "We explore how capacity (the size of the neural network) could affect this situation.\n",
    "\n",
    "**Note:** Make sure that you fix a random seed so that you can replicate your solutions. This is always a good practice, and in particular important here, as we see below."
   ]
  },
  {
   "cell_type": "code",
   "execution_count": 2,
   "metadata": {
    "id": "T6k-hagH8H0l"
   },
   "outputs": [],
   "source": [
    "import torch\n",
    "import numpy as np\n",
    "import time\n",
    "from tqdm.notebook import tqdm"
   ]
  },
  {
   "cell_type": "markdown",
   "metadata": {
    "id": "-LLf1qGBkNx4"
   },
   "source": [
    "# First we define a linear regressor.\n",
    "This is the same as a fully connected layer. It will be a building block in making deeper neural networks with fully connected layers."
   ]
  },
  {
   "cell_type": "code",
   "execution_count": 3,
   "metadata": {
    "id": "5ikI4E7WXrCQ"
   },
   "outputs": [],
   "source": [
    "# We define our first class: LinearRegressor\n",
    "#\n",
    "class LinearRegressor(torch.nn.Module):\n",
    "    def __init__(self, input_dim, output_dim):\n",
    "        \"\"\"\n",
    "        Define the layer(s) needed for the linear model.\n",
    "        \"\"\"\n",
    "        super().__init__()\n",
    "        self.linear = torch.nn.Linear(input_dim, output_dim, bias = True) # just linear\n",
    "\n",
    "    def forward(self, x):\n",
    "        \"\"\"\n",
    "        Calculate the regression score (MSE).\n",
    "\n",
    "        Input:\n",
    "            x (float tensor N x d): input rows\n",
    "        Output:\n",
    "            y (float tensor N x 1): regression output\n",
    "        \"\"\"\n",
    "        x = self.linear(x)\n",
    "        return torch.flatten(x)\n",
    "\n",
    "\n",
    "    # defining a separate predict function is useful for multi-class\n",
    "    # classification as we will see later. Here it is\n",
    "    # unnecessary.\n",
    "\n",
    "    def predict(self, x):\n",
    "        \"\"\"\n",
    "        Predict the regression label of the input vector.\n",
    "\n",
    "        Input:\n",
    "            x (float tensor N X d): input images\n",
    "        Output:\n",
    "            y (float tensor N x 1): regression output\n",
    "        \"\"\"\n",
    "        x = self.linear(x)\n",
    "        return torch.flatten(x)\n",
    "\n",
    "\n"
   ]
  },
  {
   "cell_type": "markdown",
   "metadata": {
    "id": "36zhuTCUkZXT"
   },
   "source": [
    "## Problem 1:\n",
    "\n",
    "Now you will use torch.nn.Sequential (see https://pytorch.org/docs/stable/generated/torch.nn.Sequential.html) to construct a two layer neural network, with two fully connected layers (no non-linearity yet). Thus, you will combine torch.nn.Sequential with torch.nn.Linear that you saw above.\n",
    "\n",
    "\n",
    "Design your network so that the first layer has as many neurons as the input.\n",
    "\n",
    "Note: you have only one line to fill in here."
   ]
  },
  {
   "cell_type": "code",
   "execution_count": 4,
   "metadata": {
    "id": "0LpZdyIOjlr4"
   },
   "outputs": [],
   "source": [
    "class TwoLayerLinearRegressor(torch.nn.Module):\n",
    "    def __init__(self, input_dim, output_dim):\n",
    "        \"\"\"\n",
    "        Define a model that stacks two linear fully connected layers.\n",
    "        \"\"\"\n",
    "        super().__init__()\n",
    "        self.TLL = torch.nn.Sequential(\n",
    "            torch.nn.Linear(input_dim, input_dim),\n",
    "            torch.nn.Linear(input_dim, output_dim)\n",
    "        )# TO DO: complete this equality, using torch.nn.Sequential\n",
    "\n",
    "    def forward(self, x):\n",
    "        \"\"\"\n",
    "        Calculate the regression score (MSE).\n",
    "\n",
    "        Input:\n",
    "            x (float tensor N x d): input rows\n",
    "        Output:\n",
    "            y (float tensor N x 1): regression output\n",
    "        \"\"\"\n",
    "        x = self.TLL(x)\n",
    "        return torch.flatten(x)\n",
    "\n",
    "    def predict(self, x):\n",
    "        \"\"\"\n",
    "        Predict the regression label of the input vector.\n",
    "\n",
    "        Input:\n",
    "            x (float tensor N X d): input images\n",
    "        Output:\n",
    "            y (float tensor N x 1): regression output\n",
    "        \"\"\"\n",
    "        x = self.TLL(x)\n",
    "        return torch.flatten(x)\n",
    "\n",
    "\n",
    "\n",
    "\n"
   ]
  },
  {
   "cell_type": "markdown",
   "metadata": {
    "id": "A9JRe7K3lQx7"
   },
   "source": [
    "## Problem 2\n",
    "\n",
    "Now you will create the same network, but using different syntax: you will not use torch.nn.Sequential. You need to fill in the two lines as noted by the comments."
   ]
  },
  {
   "cell_type": "code",
   "execution_count": 5,
   "metadata": {
    "id": "vZSpFBJdj-Da"
   },
   "outputs": [],
   "source": [
    "class TwoLayerLinearRegressor2(torch.nn.Module):\n",
    "    def __init__(self, input_dim, output_dim):\n",
    "        \"\"\"\n",
    "        Define a model that stacks two linear fully connected layers.\n",
    "        \"\"\"\n",
    "        super().__init__()\n",
    "        self.fc1 = torch.nn.Linear(input_dim, input_dim) # TO DO\n",
    "        self.fc2 = torch.nn.Linear(input_dim, output_dim) # TO DO\n",
    "\n",
    "    def forward(self, x):\n",
    "        \"\"\"\n",
    "        Calculate the regression score (MSE).\n",
    "\n",
    "        Input:\n",
    "            x (float tensor N x d): input rows\n",
    "        Output:\n",
    "            y (float tensor N x 1): regression output\n",
    "        \"\"\"\n",
    "\n",
    "        x = self.fc1(x)\n",
    "        x = self.fc2(x)\n",
    "        return torch.flatten(x)\n",
    "\n",
    "    def predict(self, x):\n",
    "        \"\"\"\n",
    "        Predict the regression label of the input vector.\n",
    "\n",
    "        Input:\n",
    "            x (float tensor N X d): input images\n",
    "        Output:\n",
    "            y (float tensor N x 1): regression output\n",
    "        \"\"\"\n",
    "        x = self.fc1(x)\n",
    "        x = self.fc2(x)\n",
    "        return torch.flatten(x)\n"
   ]
  },
  {
   "cell_type": "markdown",
   "metadata": {
    "id": "pTKDb01ilnks"
   },
   "source": [
    "## Problem 3\n",
    "\n",
    "Now you will define a 2 layer neural network with ReLU activation at the first layer. In other words:\n",
    "\n",
    "Let $x$ be the input.\n",
    "Then writing $z = Wx + c$, $h=$ReLU$(z)$ is the first layer's neurons. Then the output is $y = w\\cdot z+d$.\n",
    "\n",
    "Create this neural network using the torch.nn.Sequential command. Conceptually, it may help to realize that this neural network is: a fully connected layer followed by a ReLU, followed by a fully connected layer.\n",
    "\n",
    "Also see: https://pytorch.org/docs/stable/generated/torch.nn.ReLU.html\n",
    "\n",
    "Note: You have only one line to fill in here."
   ]
  },
  {
   "cell_type": "code",
   "execution_count": null,
   "metadata": {
    "id": "031WUqCajrJ_"
   },
   "outputs": [],
   "source": [
    "class TwoLayerNonLinearRegressor(torch.nn.Module):\n",
    "    def __init__(self, input_dim, output_dim, hidden_dim):\n",
    "        \"\"\"\n",
    "        Define a model that has a linear layer, a ReLU layer and another linear layer.\n",
    "        \"\"\"\n",
    "        super().__init__()\n",
    "        self.linear = torch.nn.Sequential(\n",
    "            torch.nn.Linear(input_dim, hidden_dim),\n",
    "            torch.nn.ReLU(),\n",
    "            torch.nn.Linear(hidden_dim, output_dim)\n",
    "        )# TO DO\n",
    "\n",
    "    def forward(self, x):\n",
    "        \"\"\"\n",
    "        Calculate the regression score (MSE).\n",
    "\n",
    "        Input:\n",
    "            x (float tensor N x d): input rows\n",
    "        Output:\n",
    "            y (float tensor N x 1): regression output\n",
    "        \"\"\"\n",
    "        x = self.linear(x)\n",
    "        return torch.flatten(x)\n",
    "\n",
    "    def predict(self, x):\n",
    "        \"\"\"\n",
    "        Predict the regression label of the input vector.\n",
    "\n",
    "        Input:\n",
    "            x (float tensor N X d): input images\n",
    "        Output:\n",
    "            y (float tensor N x 1): regression output\n",
    "        \"\"\"\n",
    "        x = self.linear(x)\n",
    "        return torch.flatten(x)\n",
    "\n"
   ]
  },
  {
   "cell_type": "markdown",
   "metadata": {
    "id": "ApkXVRwfmaXj"
   },
   "source": [
    "## Problem 4\n",
    "\n",
    "Do this one more time, but now without torch.nn.Sequential.\n",
    "\n",
    "You have three lines to fill in here."
   ]
  },
  {
   "cell_type": "code",
   "execution_count": 27,
   "metadata": {
    "id": "W7CrOFr8jtdp"
   },
   "outputs": [],
   "source": [
    "# We now do this again, without using nn.sequential\n",
    "# in order to illustrate different syntax.\n",
    "\n",
    "class TwoLayerNonLinearRegressor2(torch.nn.Module):\n",
    "    def __init__(self, input_dim, output_dim, hidden_dim):\n",
    "        \"\"\"\n",
    "        Define a model that has a linear layer, a ReLU layer and another linear layer.\n",
    "        \"\"\"\n",
    "        super().__init__()\n",
    "        self.fc1 = torch.nn.Linear(input_dim, hidden_dim) # TO DO\n",
    "        self.relu = torch.nn.ReLU() # TO DO\n",
    "        self.fc2 = torch.nn.Linear(hidden_dim, output_dim) # TO DO\n",
    "\n",
    "    def forward(self, x):\n",
    "        \"\"\"\n",
    "        Calculate the regression score (MSE).\n",
    "\n",
    "        Input:\n",
    "            x (float tensor N x d): input rows\n",
    "        Output:\n",
    "            y (float tensor N x 1): regression output\n",
    "        \"\"\"\n",
    "\n",
    "        x = self.fc1(x)\n",
    "        x = self.relu(x)\n",
    "        x = self.fc2(x)\n",
    "        return torch.flatten(x)\n",
    "\n",
    "    def predict(self, x):\n",
    "        \"\"\"\n",
    "        Predict the regression label of the input vector.\n",
    "\n",
    "        Input:\n",
    "            x (float tensor N X d): input images\n",
    "        Output:\n",
    "            y (float tensor N x 1): regression output\n",
    "        \"\"\"\n",
    "        x = self.fc1(x)\n",
    "        x = self.relu(x)\n",
    "        x = self.fc2(x)\n",
    "        return torch.flatten(x)"
   ]
  },
  {
   "cell_type": "markdown",
   "metadata": {
    "id": "7-7v8qRLmk3b"
   },
   "source": [
    "## Problem 5 (Nothing to turn in)\n",
    "\n",
    "Read the documentation https://pytorch.org/docs/stable/optim.html to see what are the options pytorch provides for an optimizer, and what the parameters are."
   ]
  },
  {
   "cell_type": "markdown",
   "metadata": {
    "id": "-oYjzlVqve2K"
   },
   "source": [
    "## Problem 6\n",
    "\n",
    "Explain what the code\n",
    "\n",
    "\n",
    "```\n",
    "device = torch.device('cuda' if torch.cuda.is_available() else 'cpu')\n",
    "```\n",
    "and\n",
    "\n",
    "\n",
    "```\n",
    "model.to(device)\n",
    "x = x.to(device)\n",
    "y = y.to(device)\n",
    "```\n",
    "\n",
    "does. This does not have to be a completely rigorous definition -- just explain enough to make clear that you understand what the code is doing and why it's important.\n",
    "\n"
   ]
  },
  {
   "cell_type": "markdown",
   "metadata": {},
   "source": [
    "The first line checks if there is a CUDA-enabled GPU on the device and will run subsequent models using that if there is, otherwise it will just use the CPU. GPU's often speed up training with parallelism so it's beneficial to use it if available. The following lines moves the model's parameters to the specified device as well as the input data X and labels y."
   ]
  },
  {
   "cell_type": "markdown",
   "metadata": {
    "id": "6r3mmQ0y5JxO"
   },
   "source": [
    "## Problem 7\n",
    "\n",
    "Modify the code below for the training loop, so that in addition to training, you output a curve of the training error over each epoch."
   ]
  },
  {
   "cell_type": "code",
   "execution_count": 8,
   "metadata": {
    "id": "-gYODAFizPe-"
   },
   "outputs": [],
   "source": [
    "# Now we define a function for training\n",
    "# Note each of the arguments that it takes\n",
    "import matplotlib.pyplot as plt\n",
    "\n",
    "#TODO: add a plot of the training error over each epoch\n",
    "\n",
    "def train(model, data_train, data_val, device, lr=0.01, epochs=5000):\n",
    "    \"\"\"\n",
    "    Train the model.\n",
    "\n",
    "    Input:\n",
    "      model (torch.nn.Module): the model to train\n",
    "      data_train (torch.utils.data.Dataloader): yields batches of data\n",
    "      data_val (torch.utils.data.Dataloader): use this to validate your model\n",
    "      device (torch.device): which device to use to perform computation\n",
    "\n",
    "      (optional) lr: learning rate hyperparameter\n",
    "      (optional) epochs: number of passes over dataloader\n",
    "    \"\"\"\n",
    "\n",
    "    # Setup the loss function to use: mean squared error\n",
    "    loss_function = torch.nn.MSELoss(reduction = 'sum')\n",
    "\n",
    "    # Setup the optimizer -- just generic ADAM\n",
    "    optimizer = torch.optim.Adam(model.parameters(), lr=lr)\n",
    "\n",
    "    train_losses = []\n",
    "\n",
    "    # Wrap in a progress bar.\n",
    "    for epoch in tqdm(range(epochs)):\n",
    "        # Set the model to training mode.\n",
    "        model.train()\n",
    "        train_loss = 0\n",
    "\n",
    "        for x, y in data_train:\n",
    "            x = x.to(device)\n",
    "            y = y.to(device)\n",
    "\n",
    "            # Forward pass through the network\n",
    "            output = model(x)\n",
    "\n",
    "            # Compute loss\n",
    "            loss = loss_function(output, y)\n",
    "            # losses.append(loss)\n",
    "            # update model weights.\n",
    "            optimizer.zero_grad()\n",
    "            loss.backward()\n",
    "            optimizer.step()\n",
    "\n",
    "            train_loss += loss.item()\n",
    "\n",
    "        train_loss /= len(data_train)\n",
    "        train_losses.append(train_loss)\n",
    "\n",
    "        # Set the model to eval mode and compute accuracy.\n",
    "        model.eval()\n",
    "\n",
    "        accuracys_val = list()\n",
    "\n",
    "        for x, y in data_val:\n",
    "            x = x.to(device)\n",
    "            y = y.to(device)\n",
    "\n",
    "            y_pred = model.predict(x)\n",
    "\n",
    "    \n",
    "    # Plotting the array vs its index\n",
    "    # plt.plot(train_losses)  # Plot the array\n",
    "    # plt.xlabel('# of Epochs')\n",
    "    # plt.ylabel('Training Error')\n",
    "    # plt.title('Training Error vs. Num Epochs')\n",
    "    #     # plt.grid(True)  # Optional: adds gridlines for better readability\n",
    "    # plt.show()\n",
    "\n",
    "    "
   ]
  },
  {
   "cell_type": "code",
   "execution_count": 9,
   "metadata": {
    "id": "FObDOykPz16p"
   },
   "outputs": [],
   "source": [
    "# We write a function that takes a model, evaluate on the validation\n",
    "# data set and returns the predictions\n",
    "\n",
    "def evaluate_model(model,data_val,device):\n",
    "  model.eval()\n",
    "  output_vals = list()\n",
    "  accuracys_val = list()\n",
    "  for x, y in data_val:\n",
    "            x = x.to(device)\n",
    "            y = y.to(device)\n",
    "\n",
    "            y_pred = model.predict(x)\n",
    "            output_vals.append(y_pred)\n",
    "            # accuracy_val = (y_pred == y).float().mean().item()\n",
    "            # accuracys_val.append(accuracy_val)\n",
    "\n",
    "  # accuracy = torch.FloatTensor(accuracys_val).mean().item()\n",
    "  return output_vals"
   ]
  },
  {
   "cell_type": "markdown",
   "metadata": {
    "id": "JtZYmSP5m7rT"
   },
   "source": [
    "## Problem 8 (Nothing to turn in)\n",
    "\n",
    "Read the documentation and try to understand what a dataloader is. You can start here https://pytorch.org/docs/stable/data.html but there are many tutorials out there as well."
   ]
  },
  {
   "cell_type": "code",
   "execution_count": 10,
   "metadata": {
    "id": "qtVUvfryzIJC"
   },
   "outputs": [
    {
     "name": "stdout",
     "output_type": "stream",
     "text": [
      "These are the labels:\n",
      " [-0.48196417  1.74271731 -0.80817245  3.85513499  1.37679737  0.70412182\n",
      " -1.95072436 -0.57114352  0.59781214 -0.04166327  3.75881323  0.76213726\n",
      "  1.88825154 -2.60407836  0.17448971]\n",
      "These are the features:\n",
      " [[-3.27467085e-01  1.41805844e+00  6.31780677e-01]\n",
      " [-3.20073370e-01 -8.01498589e-01  6.30646048e-01]\n",
      " [-4.17844007e-01 -2.97313289e-01 -3.43820869e-01]\n",
      " [ 9.73516110e-01 -1.53788334e+00  6.71867770e-01]\n",
      " [-9.19133332e-01 -1.48478259e+00  4.05574055e-01]\n",
      " [-1.05513670e+00 -1.56318684e+00  9.80358428e-02]\n",
      " [ 5.33660986e-01  3.83708437e-01 -1.05033846e+00]\n",
      " [ 1.46542270e-01  1.06402256e+00  1.73168388e-01]\n",
      " [ 4.01501355e-01 -6.96777471e-01 -2.50233342e-01]\n",
      " [ 2.08737660e-03  1.05393379e+00  5.05091574e-01]\n",
      " [ 2.59418438e+00  1.16254053e-01  6.40441454e-01]\n",
      " [-2.92075811e-01 -3.24281441e-01  3.64965816e-01]\n",
      " [ 5.32777774e-01 -3.40724034e-01  5.07374867e-01]\n",
      " [-6.31118916e-01  2.14609646e+00  8.65685082e-02]\n",
      " [-3.68110247e-02 -6.48365248e-01 -2.18532255e-01]]\n"
     ]
    }
   ],
   "source": [
    "# Creating the data: Linear Regression on Linear Data\n",
    "from torch.utils.data import TensorDataset, DataLoader\n",
    "N = 15\n",
    "X = np.random.randn(N,3)\n",
    "beta = np.array([1,-1,2])\n",
    "Y = np.dot(X,beta)\n",
    "tensor_x = torch.Tensor(X) # transform to torch tensor\n",
    "tensor_y = torch.Tensor(Y)\n",
    "print('These are the labels:\\n',Y)\n",
    "print('These are the features:\\n',X)\n",
    "\n",
    "m = 1 # Batch size\n",
    "data = TensorDataset(tensor_x,tensor_y) # create your datset\n",
    "data_train = DataLoader(data,batch_size = m, shuffle = True) # create your dataloader with training data\n",
    "data_val = DataLoader(data) # create your dataloader with validation data, here same as training"
   ]
  },
  {
   "cell_type": "markdown",
   "metadata": {
    "id": "aFTIV3OcnKS8"
   },
   "source": [
    "## Now we train and evaluate the linear model."
   ]
  },
  {
   "cell_type": "code",
   "execution_count": 11,
   "metadata": {
    "id": "BdXFWEN41NBt"
   },
   "outputs": [
    {
     "data": {
      "application/vnd.jupyter.widget-view+json": {
       "model_id": "9ec4cda44d7f4e1ba3eae24218ac0417",
       "version_major": 2,
       "version_minor": 0
      },
      "text/plain": [
       "  0%|          | 0/5000 [00:00<?, ?it/s]"
      ]
     },
     "metadata": {},
     "output_type": "display_data"
    }
   ],
   "source": [
    "# Define the model we wish to use, and train it.\n",
    "device = torch.device('cuda' if torch.cuda.is_available() else 'cpu')\n",
    "\n",
    "model = LinearRegressor(3, 1)\n",
    "model.to(device)\n",
    "\n",
    "train(model, data_train, data_val, device)"
   ]
  },
  {
   "cell_type": "markdown",
   "metadata": {
    "id": "sw--ClBtnYHV"
   },
   "source": [
    "## Here is some code for getting the parameters of the model."
   ]
  },
  {
   "cell_type": "code",
   "execution_count": 12,
   "metadata": {
    "id": "5hfTNlIjTNCV"
   },
   "outputs": [
    {
     "name": "stdout",
     "output_type": "stream",
     "text": [
      "linear.weight tensor([[ 1.0000, -1.0000,  2.0000]])\n",
      "linear.bias tensor([-5.1129e-10])\n"
     ]
    },
    {
     "data": {
      "text/plain": [
       "'\\nfor name, param in model.named_parameters():\\n    if param.requires_grad:\\n        print (name, param.data)\\n'"
      ]
     },
     "execution_count": 12,
     "metadata": {},
     "output_type": "execute_result"
    }
   ],
   "source": [
    "# Now let's get the model parameters.\n",
    "# We can see that we have succeeded in learning beta: [1,-1,2]\n",
    "for name, param in model.named_parameters():\n",
    "  print (name, param.data)\n",
    "\n",
    "# If we wanted to, we could also only print the ones that we update (may be useful for more complex models)\n",
    "\"\"\"\n",
    "for name, param in model.named_parameters():\n",
    "    if param.requires_grad:\n",
    "        print (name, param.data)\n",
    "\"\"\""
   ]
  },
  {
   "cell_type": "code",
   "execution_count": 13,
   "metadata": {
    "id": "DwrvHtgIFbfl"
   },
   "outputs": [
    {
     "data": {
      "application/vnd.jupyter.widget-view+json": {
       "model_id": "313fc6ce35a54aa9b45763cc7255b134",
       "version_major": 2,
       "version_minor": 0
      },
      "text/plain": [
       "  0%|          | 0/5000 [00:00<?, ?it/s]"
      ]
     },
     "metadata": {},
     "output_type": "display_data"
    }
   ],
   "source": [
    "# Now let's move to our second model: the two layer linear regressor.\n",
    "# We again define the model using the class we created.\n",
    "# Then we train the model, as above.\n",
    "\n",
    "device = torch.device('cuda' if torch.cuda.is_available() else 'cpu')\n",
    "\n",
    "model2 = TwoLayerLinearRegressor(3, 1)\n",
    "model2.to(device)\n",
    "\n",
    "train(model2, data_train, data_val, device)"
   ]
  },
  {
   "cell_type": "code",
   "execution_count": 14,
   "metadata": {
    "id": "priZSqzc1wrW"
   },
   "outputs": [
    {
     "name": "stdout",
     "output_type": "stream",
     "text": [
      "Ground Truth:\n",
      " [-0.48196417  1.74271731 -0.80817245  3.85513499  1.37679737  0.70412182\n",
      " -1.95072436 -0.57114352  0.59781214 -0.04166327  3.75881323  0.76213726\n",
      "  1.88825154 -2.60407836  0.17448971]\n",
      "Model Output:\n",
      " [tensor([-0.4198], grad_fn=<ViewBackward0>), tensor([1.6998], grad_fn=<ViewBackward0>), tensor([-0.8390], grad_fn=<ViewBackward0>), tensor([3.8110], grad_fn=<ViewBackward0>), tensor([1.2838], grad_fn=<ViewBackward0>), tensor([0.6010], grad_fn=<ViewBackward0>), tensor([-1.9314], grad_fn=<ViewBackward0>), tensor([-0.5179], grad_fn=<ViewBackward0>), tensor([0.5701], grad_fn=<ViewBackward0>), tensor([0.0105], grad_fn=<ViewBackward0>), tensor([3.8346], grad_fn=<ViewBackward0>), tensor([0.7400], grad_fn=<ViewBackward0>), tensor([1.8880], grad_fn=<ViewBackward0>), tensor([-2.5204], grad_fn=<ViewBackward0>), tensor([0.1380], grad_fn=<ViewBackward0>)]\n"
     ]
    }
   ],
   "source": [
    "# Let's see how well this model agrees with the training data\n",
    "output_values = evaluate_model(model2,data_val,device)\n",
    "print('Ground Truth:\\n',Y)\n",
    "print('Model Output:\\n',output_values)"
   ]
  },
  {
   "cell_type": "markdown",
   "metadata": {
    "id": "d-oOdWV8C8Nu"
   },
   "source": [
    "# The XOR Data Set\n",
    "We see that linear layers do not suffice."
   ]
  },
  {
   "cell_type": "code",
   "execution_count": 15,
   "metadata": {
    "id": "8Qk0d0DUzt1d"
   },
   "outputs": [
    {
     "name": "stdout",
     "output_type": "stream",
     "text": [
      "These are the labels:\n",
      " [0 1 1 0]\n",
      "These are the features:\n",
      " [[0 0]\n",
      " [0 1]\n",
      " [1 0]\n",
      " [1 1]]\n"
     ]
    }
   ],
   "source": [
    "\"\"\"\n",
    "Here we create the simple XOR data set an a numpy array.\n",
    "Then we make X and Y into tensor objects that torch uses,\n",
    "and we package it into a Dataset object called data.\n",
    "Then we create a DataLoader.\n",
    "\"\"\"\n",
    "\n",
    "Xxor = np.array([[0,0],[0,1],[1,0],[1,1]])\n",
    "Yxor = np.array([0,1,1,0])\n",
    "tensor_xxor = torch.Tensor(Xxor) # transform to torch tensor\n",
    "tensor_yxor = torch.Tensor(Yxor)\n",
    "print('These are the labels:\\n',Yxor)\n",
    "print('These are the features:\\n',Xxor)\n",
    "\n",
    "dataxor = TensorDataset(tensor_xxor,tensor_yxor) # create your datset\n",
    "dataxor_train = DataLoader(dataxor) # create your dataloader with training data\n",
    "dataxor_val = DataLoader(dataxor) # create your dataloader with validation data, here same as training"
   ]
  },
  {
   "cell_type": "markdown",
   "metadata": {
    "id": "CZngJgatnmr2"
   },
   "source": [
    "## Problem 9\n",
    "\n",
    "Train your linear regressor on these data. Now see how well you do, by evaluating your solution on the training data.\n",
    "\n",
    "Print your output. Do you get the right values?"
   ]
  },
  {
   "cell_type": "code",
   "execution_count": 16,
   "metadata": {
    "id": "8KJ5-QW8-q1I"
   },
   "outputs": [
    {
     "data": {
      "application/vnd.jupyter.widget-view+json": {
       "model_id": "b85589e93bb0466b8d93eea1d268fe86",
       "version_major": 2,
       "version_minor": 0
      },
      "text/plain": [
       "  0%|          | 0/5000 [00:00<?, ?it/s]"
      ]
     },
     "metadata": {},
     "output_type": "display_data"
    },
    {
     "name": "stdout",
     "output_type": "stream",
     "text": [
      "Ground Truth:\n",
      " [0 1 1 0]\n",
      "Model Output:\n",
      " [tensor([0.5012], grad_fn=<ViewBackward0>), tensor([0.5006], grad_fn=<ViewBackward0>), tensor([0.5005], grad_fn=<ViewBackward0>), tensor([0.4999], grad_fn=<ViewBackward0>)]\n"
     ]
    }
   ],
   "source": [
    "# Now we train a linear classifier on these data.\n",
    "# We know (and can verify) that this will fail because no linear classifier can succeed\n",
    "\n",
    "device = torch.device('cuda' if torch.cuda.is_available() else 'cpu')\n",
    "\n",
    "model3 = LinearRegressor(2, 1)# TO DO\n",
    "model3.to(device)\n",
    "\n",
    "# TO DO -- give a command to train your model\n",
    "train(model3, dataxor_train, dataxor_val, device)\n",
    "# TO DO -- give a command to evaluate your model\n",
    "output_values = evaluate_model(model3, dataxor_val, device)\n",
    "\n",
    "# TO DO -- print the ground truth, and then also print what your model predicts for the 4 points in the training set.\n",
    "print('Ground Truth:\\n',Yxor)\n",
    "print('Model Output:\\n',output_values)"
   ]
  },
  {
   "cell_type": "markdown",
   "metadata": {
    "id": "xUuz5mQY41j0"
   },
   "source": [
    "## Problem 10\n",
    "\n",
    "Now repeat this, but using both versions of your non-linear two-layer model. Thus: train both versions of your non-linear two layer models, and evaluate them on the data.\n",
    "\n",
    "Remember the values we got in class. We saw that there is a solution -- i.e., a setting for the parameters of the nonlinear model -- so that the network outputs the XOR outputs.\n",
    "\n",
    "If you got the right values, try a different random seed.\n",
    "If you didn't get the right values, try changing the random seed to see if you get something different."
   ]
  },
  {
   "cell_type": "code",
   "execution_count": 17,
   "metadata": {},
   "outputs": [
    {
     "data": {
      "application/vnd.jupyter.widget-view+json": {
       "model_id": "b2a54937b2374525869d42b5a0c1f63d",
       "version_major": 2,
       "version_minor": 0
      },
      "text/plain": [
       "  0%|          | 0/5000 [00:00<?, ?it/s]"
      ]
     },
     "metadata": {},
     "output_type": "display_data"
    },
    {
     "data": {
      "application/vnd.jupyter.widget-view+json": {
       "model_id": "22e20b5e0bf14a60864c22894685ecb7",
       "version_major": 2,
       "version_minor": 0
      },
      "text/plain": [
       "  0%|          | 0/5000 [00:00<?, ?it/s]"
      ]
     },
     "metadata": {},
     "output_type": "display_data"
    },
    {
     "name": "stdout",
     "output_type": "stream",
     "text": [
      "Ground Truth:\n",
      " [0 1 1 0]\n",
      "Model 4 Output:\n",
      " [tensor([0.3336], grad_fn=<ViewBackward0>), tensor([0.3336], grad_fn=<ViewBackward0>), tensor([1.0004], grad_fn=<ViewBackward0>), tensor([0.3336], grad_fn=<ViewBackward0>)]\n",
      "Model 5 Output:\n",
      " [tensor([0.3336], grad_fn=<ViewBackward0>), tensor([0.3336], grad_fn=<ViewBackward0>), tensor([1.0014], grad_fn=<ViewBackward0>), tensor([0.3336], grad_fn=<ViewBackward0>)]\n"
     ]
    }
   ],
   "source": [
    "model4 = TwoLayerNonLinearRegressor(2, 1)\n",
    "model5 = TwoLayerNonLinearRegressor2(2, 1)\n",
    "\n",
    "model4.to(device)\n",
    "model5.to(device)\n",
    "\n",
    "train(model4, dataxor_train, dataxor_val, device)\n",
    "train(model5, dataxor_train, dataxor_val, device)\n",
    "\n",
    "output_values = evaluate_model(model4, dataxor_val, device)\n",
    "\n",
    "print('Ground Truth:\\n',Yxor)\n",
    "print('Model 4 Output:\\n',output_values)\n",
    "\n",
    "output_values = evaluate_model(model5, dataxor_val, device)\n",
    "print('Model 5 Output:\\n',output_values)"
   ]
  },
  {
   "cell_type": "code",
   "execution_count": 19,
   "metadata": {},
   "outputs": [
    {
     "data": {
      "application/vnd.jupyter.widget-view+json": {
       "model_id": "aa92c024729b4eea80599f4aa6efbaca",
       "version_major": 2,
       "version_minor": 0
      },
      "text/plain": [
       "  0%|          | 0/5000 [00:00<?, ?it/s]"
      ]
     },
     "metadata": {},
     "output_type": "display_data"
    },
    {
     "data": {
      "application/vnd.jupyter.widget-view+json": {
       "model_id": "27f20362d1014946a510edf2ff9b589a",
       "version_major": 2,
       "version_minor": 0
      },
      "text/plain": [
       "  0%|          | 0/5000 [00:00<?, ?it/s]"
      ]
     },
     "metadata": {},
     "output_type": "display_data"
    },
    {
     "name": "stdout",
     "output_type": "stream",
     "text": [
      "Ground Truth:\n",
      " [0 1 1 0]\n",
      "Model 6 Output:\n",
      " [tensor([0.5007], grad_fn=<ViewBackward0>), tensor([1.0008], grad_fn=<ViewBackward0>), tensor([0.5007], grad_fn=<ViewBackward0>), tensor([0.0007], grad_fn=<ViewBackward0>)]\n",
      "Model 7 Output:\n",
      " [tensor([5.1077e-09], grad_fn=<ViewBackward0>), tensor([1.], grad_fn=<ViewBackward0>), tensor([1.0000], grad_fn=<ViewBackward0>), tensor([5.3362e-08], grad_fn=<ViewBackward0>)]\n"
     ]
    }
   ],
   "source": [
    "# Incorrect answer in the previous question - change the seed to get something different\n",
    "torch.manual_seed(42)\n",
    "\n",
    "model6 = TwoLayerNonLinearRegressor(2, 1)\n",
    "model7 = TwoLayerNonLinearRegressor2(2, 1)\n",
    "\n",
    "model6.to(device)\n",
    "model7.to(device)\n",
    "\n",
    "train(model6, dataxor_train, dataxor_val, device)\n",
    "train(model7, dataxor_train, dataxor_val, device)\n",
    "\n",
    "output_values = evaluate_model(model6, dataxor_val, device)\n",
    "\n",
    "print('Ground Truth:\\n',Yxor)\n",
    "print('Model 6 Output:\\n',output_values)\n",
    "\n",
    "output_values = evaluate_model(model7, dataxor_val, device)\n",
    "print('Model 7 Output:\\n',output_values)"
   ]
  },
  {
   "cell_type": "markdown",
   "metadata": {
    "id": "OiONq3mb4_9I"
   },
   "source": [
    "## Problem 11\n",
    "\n",
    "If you did the above correctly, you will see that the values depend quite a bit on the random seed. In fact, you probably noticed that most random seeds **don't seem to work**.\n",
    "\n",
    "What is happening here is that we are getting stuck in a local minimum, and our gradient-based method used in the training loop cannot escape from it.\n",
    "\n",
    "Modify the definition of your non-linear two layer network so that the first layer of neurons (the hidden layer) has more than 2 (say, 10 or 15) neurons. Note that this means your network has more parameters.\n",
    "\n",
    "Then run it again with different seeds on the XOR training data. Is it easier (i.e., easier to find a random seed that works)?"
   ]
  },
  {
   "cell_type": "code",
   "execution_count": 28,
   "metadata": {},
   "outputs": [
    {
     "data": {
      "application/vnd.jupyter.widget-view+json": {
       "model_id": "08d1caf1b43b41e6b5965d402d8a56d1",
       "version_major": 2,
       "version_minor": 0
      },
      "text/plain": [
       "  0%|          | 0/5000 [00:00<?, ?it/s]"
      ]
     },
     "metadata": {},
     "output_type": "display_data"
    },
    {
     "data": {
      "application/vnd.jupyter.widget-view+json": {
       "model_id": "73b54b41abf0439e8d6a860fd58004ea",
       "version_major": 2,
       "version_minor": 0
      },
      "text/plain": [
       "  0%|          | 0/5000 [00:00<?, ?it/s]"
      ]
     },
     "metadata": {},
     "output_type": "display_data"
    },
    {
     "name": "stdout",
     "output_type": "stream",
     "text": [
      "Ground Truth:\n",
      " [0 1 1 0]\n",
      "Model X Output:\n",
      " [tensor([0.], grad_fn=<ViewBackward0>), tensor([1.], grad_fn=<ViewBackward0>), tensor([1.], grad_fn=<ViewBackward0>), tensor([0.], grad_fn=<ViewBackward0>)]\n",
      "Model Y Output:\n",
      " [tensor([0.], grad_fn=<ViewBackward0>), tensor([1.], grad_fn=<ViewBackward0>), tensor([1.], grad_fn=<ViewBackward0>), tensor([0.], grad_fn=<ViewBackward0>)]\n",
      "-----\n"
     ]
    },
    {
     "data": {
      "application/vnd.jupyter.widget-view+json": {
       "model_id": "9f7eacc741bf49148aa43dd9a8ce328e",
       "version_major": 2,
       "version_minor": 0
      },
      "text/plain": [
       "  0%|          | 0/5000 [00:00<?, ?it/s]"
      ]
     },
     "metadata": {},
     "output_type": "display_data"
    },
    {
     "data": {
      "application/vnd.jupyter.widget-view+json": {
       "model_id": "07af9c37c6844757b6310ad9601032b2",
       "version_major": 2,
       "version_minor": 0
      },
      "text/plain": [
       "  0%|          | 0/5000 [00:00<?, ?it/s]"
      ]
     },
     "metadata": {},
     "output_type": "display_data"
    },
    {
     "name": "stdout",
     "output_type": "stream",
     "text": [
      "Ground Truth:\n",
      " [0 1 1 0]\n",
      "Model X Output:\n",
      " [tensor([0.], grad_fn=<ViewBackward0>), tensor([1.], grad_fn=<ViewBackward0>), tensor([1.], grad_fn=<ViewBackward0>), tensor([0.], grad_fn=<ViewBackward0>)]\n",
      "Model Y Output:\n",
      " [tensor([0.], grad_fn=<ViewBackward0>), tensor([1.], grad_fn=<ViewBackward0>), tensor([1.], grad_fn=<ViewBackward0>), tensor([0.], grad_fn=<ViewBackward0>)]\n",
      "-----\n"
     ]
    },
    {
     "data": {
      "application/vnd.jupyter.widget-view+json": {
       "model_id": "32774083f09646979611a3b96b68f03b",
       "version_major": 2,
       "version_minor": 0
      },
      "text/plain": [
       "  0%|          | 0/5000 [00:00<?, ?it/s]"
      ]
     },
     "metadata": {},
     "output_type": "display_data"
    },
    {
     "data": {
      "application/vnd.jupyter.widget-view+json": {
       "model_id": "5f98fb00035d44199c9f5b5b4a0bd4c1",
       "version_major": 2,
       "version_minor": 0
      },
      "text/plain": [
       "  0%|          | 0/5000 [00:00<?, ?it/s]"
      ]
     },
     "metadata": {},
     "output_type": "display_data"
    },
    {
     "name": "stdout",
     "output_type": "stream",
     "text": [
      "Ground Truth:\n",
      " [0 1 1 0]\n",
      "Model X Output:\n",
      " [tensor([0.], grad_fn=<ViewBackward0>), tensor([1.], grad_fn=<ViewBackward0>), tensor([1.], grad_fn=<ViewBackward0>), tensor([0.], grad_fn=<ViewBackward0>)]\n",
      "Model Y Output:\n",
      " [tensor([0.], grad_fn=<ViewBackward0>), tensor([1.], grad_fn=<ViewBackward0>), tensor([1.], grad_fn=<ViewBackward0>), tensor([0.], grad_fn=<ViewBackward0>)]\n",
      "-----\n"
     ]
    },
    {
     "data": {
      "application/vnd.jupyter.widget-view+json": {
       "model_id": "0c97f64b148e4ddf939db49fe48577f7",
       "version_major": 2,
       "version_minor": 0
      },
      "text/plain": [
       "  0%|          | 0/5000 [00:00<?, ?it/s]"
      ]
     },
     "metadata": {},
     "output_type": "display_data"
    },
    {
     "data": {
      "application/vnd.jupyter.widget-view+json": {
       "model_id": "ced03667e90a45b9b9b5ea7f029d9faf",
       "version_major": 2,
       "version_minor": 0
      },
      "text/plain": [
       "  0%|          | 0/5000 [00:00<?, ?it/s]"
      ]
     },
     "metadata": {},
     "output_type": "display_data"
    },
    {
     "name": "stdout",
     "output_type": "stream",
     "text": [
      "Ground Truth:\n",
      " [0 1 1 0]\n",
      "Model X Output:\n",
      " [tensor([1.4013e-44], grad_fn=<ViewBackward0>), tensor([1.], grad_fn=<ViewBackward0>), tensor([1.], grad_fn=<ViewBackward0>), tensor([6.3058e-44], grad_fn=<ViewBackward0>)]\n",
      "Model Y Output:\n",
      " [tensor([0.], grad_fn=<ViewBackward0>), tensor([1.], grad_fn=<ViewBackward0>), tensor([1.], grad_fn=<ViewBackward0>), tensor([0.], grad_fn=<ViewBackward0>)]\n",
      "-----\n"
     ]
    },
    {
     "data": {
      "application/vnd.jupyter.widget-view+json": {
       "model_id": "932ef7a88ef6446e83b737b712a09ba9",
       "version_major": 2,
       "version_minor": 0
      },
      "text/plain": [
       "  0%|          | 0/5000 [00:00<?, ?it/s]"
      ]
     },
     "metadata": {},
     "output_type": "display_data"
    },
    {
     "data": {
      "application/vnd.jupyter.widget-view+json": {
       "model_id": "19eb6578563d4a20857f9baff67c1987",
       "version_major": 2,
       "version_minor": 0
      },
      "text/plain": [
       "  0%|          | 0/5000 [00:00<?, ?it/s]"
      ]
     },
     "metadata": {},
     "output_type": "display_data"
    },
    {
     "name": "stdout",
     "output_type": "stream",
     "text": [
      "Ground Truth:\n",
      " [0 1 1 0]\n",
      "Model X Output:\n",
      " [tensor([-3.6434e-44], grad_fn=<ViewBackward0>), tensor([1.], grad_fn=<ViewBackward0>), tensor([1.], grad_fn=<ViewBackward0>), tensor([-3.6434e-44], grad_fn=<ViewBackward0>)]\n",
      "Model Y Output:\n",
      " [tensor([0.], grad_fn=<ViewBackward0>), tensor([1.], grad_fn=<ViewBackward0>), tensor([1.], grad_fn=<ViewBackward0>), tensor([0.], grad_fn=<ViewBackward0>)]\n",
      "-----\n"
     ]
    }
   ],
   "source": [
    "seeds = [1, 42, 99, 106, 2014]\n",
    "\n",
    "for seed in seeds:\n",
    "    torch.manual_seed(seed)\n",
    "\n",
    "    modelX = TwoLayerNonLinearRegressor(2, 1, 10)\n",
    "    modelY = TwoLayerNonLinearRegressor2(2, 1, 10)\n",
    "\n",
    "    modelX.to(device)\n",
    "    modelY.to(device)\n",
    "\n",
    "    train(modelX, dataxor_train, dataxor_val, device)\n",
    "    train(modelY, dataxor_train, dataxor_val, device)\n",
    "\n",
    "    output_values = evaluate_model(modelX, dataxor_val, device)\n",
    "\n",
    "    print('Ground Truth:\\n',Yxor)\n",
    "    print('Model X Output:\\n',output_values)\n",
    "\n",
    "    output_values = evaluate_model(modelY, dataxor_val, device)\n",
    "    print('Model Y Output:\\n',output_values)\n",
    "\n",
    "    print(\"-----\")"
   ]
  },
  {
   "cell_type": "markdown",
   "metadata": {},
   "source": [
    "Yes, for each of the randomly selected seeds, the models output the ground truth."
   ]
  },
  {
   "cell_type": "markdown",
   "metadata": {
    "id": "NPRZcvQbpL6K"
   },
   "source": [
    "## Problem 12\n",
    "\n",
    "Print the parameters of one of your non-linear models. Thus, you should print: 4 weights plus 2 bias values for the first layer, and then 2 weights plus 1 bias value for the second: 9 parameters in total."
   ]
  },
  {
   "cell_type": "code",
   "execution_count": 40,
   "metadata": {
    "id": "dK_N_j31wCD1"
   },
   "outputs": [
    {
     "data": {
      "application/vnd.jupyter.widget-view+json": {
       "model_id": "d5b36bbb7dbc45dfbc25b936dd861977",
       "version_major": 2,
       "version_minor": 0
      },
      "text/plain": [
       "  0%|          | 0/5000 [00:00<?, ?it/s]"
      ]
     },
     "metadata": {},
     "output_type": "display_data"
    },
    {
     "name": "stdout",
     "output_type": "stream",
     "text": [
      "Ground Truth:\n",
      " [0 1 1 0]\n",
      "Model 8 Output:\n",
      " [tensor([0.5007], grad_fn=<ViewBackward0>), tensor([1.0008], grad_fn=<ViewBackward0>), tensor([0.5007], grad_fn=<ViewBackward0>), tensor([0.0007], grad_fn=<ViewBackward0>)]\n",
      "First Layer (fc1) Parameters:\n",
      "Weights (4 values):\n",
      "Parameter containing:\n",
      "tensor([[ 0.7041,  0.9525],\n",
      "        [-0.8649,  0.9728]], requires_grad=True)\n",
      "Biases (2 values):\n",
      "Parameter containing:\n",
      "tensor([-0.7817, -0.2158], requires_grad=True)\n",
      "\n",
      "Second Layer (fc2) Parameters:\n",
      "Weights (2 values):\n",
      "Parameter containing:\n",
      "tensor([[-0.5716,  0.7895]], requires_grad=True)\n",
      "Bias (1 value):\n",
      "Parameter containing:\n",
      "tensor([0.5007], requires_grad=True)\n"
     ]
    }
   ],
   "source": [
    "torch.manual_seed(42)\n",
    "\n",
    "model8 = TwoLayerNonLinearRegressor(2, 1, 10)\n",
    "\n",
    "model8.to(device)\n",
    "\n",
    "train(model8, dataxor_train, dataxor_val, device)\n",
    "\n",
    "output_values = evaluate_model(model8, dataxor_val, device)\n",
    "\n",
    "print('Ground Truth:\\n',Yxor)\n",
    "print('Model 8 Output:\\n',output_values)\n",
    "\n",
    "first_layer = model8.linear[0]\n",
    "relu_layer = model8.linear[1]\n",
    "second_layer = model8.linear[2]\n",
    "\n",
    "print(\"First Layer (fc1) Parameters:\")\n",
    "print(\"Weights (4 values):\")\n",
    "print(first_layer.weight)\n",
    "print(\"Biases (2 values):\")\n",
    "print(first_layer.bias)\n",
    "\n",
    "print(\"\\nSecond Layer (fc2) Parameters:\")\n",
    "print(\"Weights (2 values):\")\n",
    "print(second_layer.weight)\n",
    "print(\"Bias (1 value):\")\n",
    "print(second_layer.bias)"
   ]
  }
 ],
 "metadata": {
  "colab": {
   "provenance": [],
   "toc_visible": true
  },
  "kernelspec": {
   "display_name": "Python 3",
   "language": "python",
   "name": "python3"
  },
  "language_info": {
   "codemirror_mode": {
    "name": "ipython",
    "version": 3
   },
   "file_extension": ".py",
   "mimetype": "text/x-python",
   "name": "python",
   "nbconvert_exporter": "python",
   "pygments_lexer": "ipython3",
   "version": "3.12.4"
  }
 },
 "nbformat": 4,
 "nbformat_minor": 0
}

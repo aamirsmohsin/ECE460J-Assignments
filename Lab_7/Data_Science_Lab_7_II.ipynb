{
 "cells": [
  {
   "cell_type": "markdown",
   "metadata": {
    "id": "KBqCA4iQPbI1"
   },
   "source": [
    "# Data Science Lab: Lab 7 part II (of III)\n",
    "\n",
    "Submit:\n",
    "\n",
    "A pdf of your notebook with solutions.\n",
    "A link to your colab notebook or also upload your .ipynb if not working on colab.\n",
    "\n",
    "## Goals of this Lab: Transfer Learning\n",
    "\n",
    "https://pytorch.org/tutorials/beginner/transfer_learning_tutorial.html\n",
    "\n",
    "In the previous notebook, we learned how to put together various different types of layers to build a convolutional neural network (CNN) to classify CIFAR-10. Now we are going to learn about the principle of transfer learning.\n",
    "\n",
    "We will create 2 data sets: one with the first five labels of CIFAR-10 (plane, car, bird, cat, deer), and one with the remaining 5. We will see how training on the second data set, can actually help us with the first.\n",
    "\n",
    "Note: because CIFAR-10 is a relatively small data set, the numbers are not overly compelling. But we can greatly amplify this if we use larger data sets."
   ]
  },
  {
   "cell_type": "markdown",
   "metadata": {
    "id": "FD3Cc4D4s3tm"
   },
   "source": [
    "## Problem 1.\n",
    "\n",
    "Make train and validation (testing) data loaders for the first five labels, and the second five labels.\n",
    "\n",
    "You should have 4 dataloaders when done."
   ]
  },
  {
   "cell_type": "code",
   "execution_count": 24,
   "metadata": {
    "id": "8nmgaz7XPd3p"
   },
   "outputs": [],
   "source": [
    "# First we download the data. This is quite similar to what we've seen before.\n",
    "# The main difference will be that we need to make two different loaders,\n",
    "# one for the first five labels, and one for the remaining five.\n",
    "\n",
    "import torchvision\n",
    "import torchvision.transforms as transforms\n",
    "import torch\n",
    "import torch.nn as nn\n",
    "import torch.nn.functional as F\n",
    "torch.manual_seed(42)\n",
    "\n",
    "\n",
    "classes = ['airplane', 'automobile', 'bird', 'cat', 'deer', 'dog', 'frog', 'horse', 'ship', 'truck']\n",
    "\n",
    "batch_size = 4\n",
    "\n",
    "# the tutorial calls the dataloader twice -- this code defines a function\n",
    "# that will do this for the train/test data.\n",
    "\n",
    "def fetch_dataloader(batch_size, label_subset,transform=None, is_train=True):\n",
    "    \"\"\"\n",
    "    Loads data from disk and returns a data_loader.\n",
    "    A DataLoader is similar to a list of (image, label) tuples.\n",
    "    You do not need to fully understand this code to do this assignment, we're happy to explain though.\n",
    "    \"\"\"\n",
    "    data = torchvision.datasets.CIFAR10(root='./data', train=True, download=True, transform=transform)\n",
    "\n",
    "    # TO DO\n",
    "    # TO DO\n",
    "    # TO DO\n",
    "\n",
    "    # Filter dataset to include only the specified labels\n",
    "    filtered_indices = [i for i, (_, label) in enumerate(data) if label in label_subset and (i%10 > 0) == is_train]\n",
    "    filtered_data = torch.utils.data.Subset(data, filtered_indices)\n",
    "\n",
    "    # train_val_split = [i for i in range(len(data)) if (i%10 > 0) == is_train]\n",
    "    # filtered_data = torch.utils.data.Subset(filtered_data, train_val_split)\n",
    "\n",
    "    # Create DataLoader\n",
    "    loader = torch.utils.data.DataLoader(\n",
    "        filtered_data, \n",
    "        batch_size=batch_size, \n",
    "        shuffle=True, \n",
    "        num_workers=2\n",
    "    )\n",
    "    return loader\n",
    "\n",
    "\n",
    "train_transform = transforms.Compose(\n",
    "    [transforms.ToTensor(),\n",
    "     transforms.Normalize((0.5, 0.5, 0.5), (0.5, 0.5, 0.5))])\n",
    "\n",
    "val_transform = transforms.Compose(\n",
    "    [transforms.ToTensor(),\n",
    "     transforms.Normalize((0.5, 0.5, 0.5), (0.5, 0.5, 0.5))])"
   ]
  },
  {
   "cell_type": "code",
   "execution_count": 25,
   "metadata": {
    "id": "hCslTG6BpiAv"
   },
   "outputs": [
    {
     "name": "stdout",
     "output_type": "stream",
     "text": [
      "Files already downloaded and verified\n",
      "Files already downloaded and verified\n",
      "Files already downloaded and verified\n",
      "Files already downloaded and verified\n"
     ]
    }
   ],
   "source": [
    "\"\"\"\n",
    "TO DO\n",
    "\n",
    "Complete these four using the function you wrote above, to get the 4 data loaders you need:\n",
    "two for labels 1-5, and two for labels 6-10.\n",
    "\"\"\"\n",
    "# Define label subsets\n",
    "first_five_labels = [0, 1, 2, 3, 4]  # 'airplane', 'automobile', 'bird', 'cat', 'deer'\n",
    "second_five_labels = [5, 6, 7, 8, 9]  # 'dog', 'frog', 'horse', 'ship', 'truck'\n",
    "data15_train = fetch_dataloader(batch_size, first_five_labels, transform=train_transform, is_train=True)\n",
    "data15_val = fetch_dataloader(batch_size, first_five_labels, transform=val_transform, is_train=False)\n",
    "data610_train = fetch_dataloader(batch_size, second_five_labels, transform=train_transform, is_train=True)\n",
    "data610_val = fetch_dataloader(batch_size, second_five_labels, transform=val_transform, is_train=False)"
   ]
  },
  {
   "cell_type": "code",
   "execution_count": 27,
   "metadata": {
    "id": "03GxoPpWppq5"
   },
   "outputs": [
    {
     "data": {
      "image/png": "[encoded data removed]",
      "text/plain": [
       "<Figure size 640x480 with 1 Axes>"
      ]
     },
     "metadata": {},
     "output_type": "display_data"
    },
    {
     "name": "stdout",
     "output_type": "stream",
     "text": [
      " ship  frog horse horse\n"
     ]
    }
   ],
   "source": [
    "# Now let's visualize a few images, to see if this worked.\n",
    "# Same exact syntax as in the previous notebook.\n",
    "# Nothing to do here, except run it to make sure it worked.\n",
    "import matplotlib.pyplot as plt\n",
    "import numpy as np\n",
    "from torchvision.utils import make_grid\n",
    "%matplotlib inline\n",
    "\n",
    "def imshow(img):\n",
    "    img = img / 2 + 0.5     # unnormalize\n",
    "    npimg = img.numpy()\n",
    "    plt.imshow(np.transpose(npimg, (1, 2, 0)))\n",
    "    plt.show()\n",
    "\n",
    "\n",
    "# get some random training images\n",
    "dataiter = iter(data610_train)\n",
    "images, labels = next(dataiter)\n",
    "\n",
    "# show images\n",
    "imshow(torchvision.utils.make_grid(images))\n",
    "# print labels\n",
    "print(' '.join('%5s' % classes[labels[j]] for j in range(batch_size)))"
   ]
  },
  {
   "cell_type": "code",
   "execution_count": 28,
   "metadata": {
    "id": "JKP1etNjqMKu"
   },
   "outputs": [],
   "source": [
    "# We define the same model from the last notebook\n",
    "# that we got from the Pytorch ConvNet tutorial.\n",
    "\n",
    "class ConvNet(nn.Module):\n",
    "    def __init__(self):\n",
    "        super().__init__()\n",
    "        self.relu = nn.ReLU()\n",
    "        self.conv1 = nn.Conv2d(3, 6, 5)\n",
    "        self.pool = nn.MaxPool2d(2, 2)\n",
    "        self.conv2 = nn.Conv2d(6, 16, 5)\n",
    "        self.fc1 = nn.Linear(16 * 5 * 5, 120)\n",
    "        self.fc2 = nn.Linear(120, 84)\n",
    "        self.fc3 = nn.Linear(84, 10)\n",
    "\n",
    "    def forward(self, x):\n",
    "        x = self.conv1(x)\n",
    "        x = self.relu(x)\n",
    "        x = self.pool(x)\n",
    "        x = self.conv2(x)\n",
    "        x = self.relu(x)\n",
    "        x = self.pool(x)\n",
    "        x = torch.flatten(x, 1) # flatten all dimensions except batch\n",
    "        x = self.fc1(x)\n",
    "        x = self.relu(x)\n",
    "        x = self.fc2(x)\n",
    "        x = self.relu(x)\n",
    "        x = self.fc3(x)\n",
    "        return x"
   ]
  },
  {
   "cell_type": "code",
   "execution_count": 30,
   "metadata": {
    "id": "Et9ZJIiHrd-e"
   },
   "outputs": [],
   "source": [
    "# We train the model on the first five labels to see how well we do after a fixed amount of training.\n",
    "#\n",
    "device = torch.device('cuda' if torch.cuda.is_available() else 'cpu')\n",
    "\n",
    "\n",
    "# Choose a model to train\n",
    "model1 = ConvNet() # note that this command resets the parameters\n",
    "model1.to(device)\n",
    "model1.train()\n",
    "\n",
    "# Set the loss function and optimizer\n",
    "loss_function = nn.CrossEntropyLoss()\n",
    "optimizer = torch.optim.SGD(model1.parameters(), lr=0.001, momentum=0.9)\n",
    "device = torch.device('cuda' if torch.cuda.is_available() else 'cpu')\n",
    "\n"
   ]
  },
  {
   "cell_type": "code",
   "execution_count": 31,
   "metadata": {
    "id": "430y8iAvHNVj"
   },
   "outputs": [
    {
     "name": "stdout",
     "output_type": "stream",
     "text": [
      "[1,   200] loss: 2.068\n",
      "[1,   400] loss: 1.666\n",
      "[1,   600] loss: 1.568\n",
      "[1,   800] loss: 1.512\n",
      "[1,  1000] loss: 1.453\n",
      "[1,  1200] loss: 1.434\n",
      "[1,  1400] loss: 1.352\n",
      "[1,  1600] loss: 1.315\n",
      "[1,  1800] loss: 1.229\n",
      "[1,  2000] loss: 1.190\n",
      "[1,  2200] loss: 1.188\n",
      "[1,  2400] loss: 1.169\n",
      "[1,  2600] loss: 1.136\n",
      "[1,  2800] loss: 1.128\n",
      "[1,  3000] loss: 1.047\n",
      "[1,  3200] loss: 1.114\n",
      "[1,  3400] loss: 1.044\n",
      "[1,  3600] loss: 1.062\n",
      "[1,  3800] loss: 1.082\n",
      "[1,  4000] loss: 1.080\n",
      "[1,  4200] loss: 0.984\n",
      "[1,  4400] loss: 1.054\n",
      "[1,  4600] loss: 1.072\n",
      "[1,  4800] loss: 0.994\n",
      "[1,  5000] loss: 1.078\n",
      "[1,  5200] loss: 0.996\n",
      "[1,  5400] loss: 0.994\n",
      "[1,  5600] loss: 0.982\n",
      "Finished Training\n"
     ]
    }
   ],
   "source": [
    "for epoch in range(1):  # a single pas through the data. Don't change this.\n",
    "\n",
    "    running_loss = 0.0\n",
    "    for i, data in enumerate(data15_train, 0):\n",
    "        # get the inputs; data is a list of [inputs, labels]\n",
    "        inputs, labels = data\n",
    "        inputs = inputs.to(device)\n",
    "        labels = labels.to(device)\n",
    "\n",
    "        # zero the parameter gradients\n",
    "        optimizer.zero_grad()\n",
    "\n",
    "        # forward + backward + optimize\n",
    "        outputs = model1(inputs)\n",
    "        loss = loss_function(outputs, labels)\n",
    "        loss.backward()\n",
    "        optimizer.step()\n",
    "\n",
    "        # print statistics\n",
    "        running_loss += loss.item()\n",
    "        if i % 200 == 199:    # print every 200 mini-batches\n",
    "            print('[%d, %5d] loss: %.3f' %\n",
    "                  (epoch + 1, i + 1, running_loss / 200))\n",
    "            running_loss = 0.0\n",
    "\n",
    "print('Finished Training')"
   ]
  },
  {
   "cell_type": "markdown",
   "metadata": {
    "id": "zQAv9abvtb0t"
   },
   "source": [
    "## Problem 2\n",
    "\n",
    "In the cell above, you trained your model on labels 1-5 for one single epoch.\n",
    "\n",
    "How well does this do on the validation data set?\n",
    "\n",
    "This is nearly identical to problems you solved in part I.\n"
   ]
  },
  {
   "cell_type": "code",
   "execution_count": null,
   "metadata": {},
   "outputs": [
    {
     "name": "stdout",
     "output_type": "stream",
     "text": [
      "Validation Accuracy: 57.33%\n"
     ]
    }
   ],
   "source": [
    "# Set the model to evaluation mode\n",
    "model1.eval()\n",
    "\n",
    "# Use the appropriate DataLoader (e.g., data15_val for first 5 labels)\n",
    "dataloader = data15_val\n",
    "\n",
    "# Initialize variables to compute accuracy\n",
    "correct = 0\n",
    "total = 0\n",
    "\n",
    "# Disable gradient computation\n",
    "with torch.no_grad():\n",
    "    for inputs, labels in dataloader:\n",
    "        # Forward pass: compute predictions\n",
    "        outputs = model1(inputs)\n",
    "        _, predicted = torch.max(outputs, 1)  # Get the class index with the highest score\n",
    "\n",
    "        # Update accuracy metrics\n",
    "        total += labels.size(0)  # Total number of samples\n",
    "        correct += (predicted == labels).sum().item()  # Count correct predictions\n",
    "\n",
    "# Calculate and print accuracy\n",
    "accuracy = 100 * correct / total\n",
    "print(f\"Validation Accuracy: {accuracy:.2f}%\")\n"
   ]
  },
  {
   "cell_type": "code",
   "execution_count": 34,
   "metadata": {
    "id": "jrpe3TOBHz-2"
   },
   "outputs": [],
   "source": [
    "# Now we train the model on the last 5 labels to use for transfer learning.\n",
    "\n",
    "device = torch.device('cuda' if torch.cuda.is_available() else 'cpu')\n",
    "\n",
    "\n",
    "# Choose a model to train\n",
    "model2 = ConvNet() # note that this command resets the parameters\n",
    "model2.to(device)\n",
    "model2.train()\n",
    "\n",
    "# Set the loss function and optimizer\n",
    "loss_function = nn.CrossEntropyLoss()\n",
    "optimizer = torch.optim.SGD(model2.parameters(), lr=0.001, momentum=0.9)\n",
    "device = torch.device('cuda' if torch.cuda.is_available() else 'cpu')"
   ]
  },
  {
   "cell_type": "code",
   "execution_count": 35,
   "metadata": {
    "id": "WfG6gnF7IN4r"
   },
   "outputs": [
    {
     "name": "stdout",
     "output_type": "stream",
     "text": [
      "[1,   500] loss: 1.759\n",
      "[1,  1000] loss: 1.388\n",
      "[1,  1500] loss: 1.233\n",
      "[1,  2000] loss: 1.121\n",
      "[1,  2500] loss: 1.052\n",
      "[1,  3000] loss: 1.028\n",
      "[1,  3500] loss: 0.964\n",
      "[1,  4000] loss: 0.925\n",
      "[1,  4500] loss: 0.944\n",
      "[1,  5000] loss: 0.861\n",
      "[1,  5500] loss: 0.883\n",
      "[2,   500] loss: 0.812\n",
      "[2,  1000] loss: 0.806\n",
      "[2,  1500] loss: 0.777\n",
      "[2,  2000] loss: 0.759\n",
      "[2,  2500] loss: 0.755\n",
      "[2,  3000] loss: 0.738\n",
      "[2,  3500] loss: 0.743\n",
      "[2,  4000] loss: 0.701\n",
      "[2,  4500] loss: 0.699\n",
      "[2,  5000] loss: 0.746\n",
      "[2,  5500] loss: 0.699\n",
      "[3,   500] loss: 0.646\n",
      "[3,  1000] loss: 0.646\n",
      "[3,  1500] loss: 0.695\n",
      "[3,  2000] loss: 0.635\n",
      "[3,  2500] loss: 0.656\n",
      "[3,  3000] loss: 0.635\n",
      "[3,  3500] loss: 0.636\n",
      "[3,  4000] loss: 0.593\n",
      "[3,  4500] loss: 0.627\n",
      "[3,  5000] loss: 0.620\n",
      "[3,  5500] loss: 0.592\n",
      "[4,   500] loss: 0.575\n",
      "[4,  1000] loss: 0.601\n",
      "[4,  1500] loss: 0.580\n",
      "[4,  2000] loss: 0.543\n",
      "[4,  2500] loss: 0.565\n",
      "[4,  3000] loss: 0.577\n",
      "[4,  3500] loss: 0.546\n",
      "[4,  4000] loss: 0.576\n",
      "[4,  4500] loss: 0.572\n",
      "[4,  5000] loss: 0.559\n",
      "[4,  5500] loss: 0.554\n",
      "[5,   500] loss: 0.444\n",
      "[5,  1000] loss: 0.480\n",
      "[5,  1500] loss: 0.489\n",
      "[5,  2000] loss: 0.525\n",
      "[5,  2500] loss: 0.542\n",
      "[5,  3000] loss: 0.512\n",
      "[5,  3500] loss: 0.513\n",
      "[5,  4000] loss: 0.537\n",
      "[5,  4500] loss: 0.529\n",
      "[5,  5000] loss: 0.516\n",
      "[5,  5500] loss: 0.525\n",
      "[6,   500] loss: 0.423\n",
      "[6,  1000] loss: 0.476\n",
      "[6,  1500] loss: 0.474\n",
      "[6,  2000] loss: 0.449\n",
      "[6,  2500] loss: 0.473\n",
      "[6,  3000] loss: 0.445\n",
      "[6,  3500] loss: 0.484\n",
      "[6,  4000] loss: 0.459\n",
      "[6,  4500] loss: 0.516\n",
      "[6,  5000] loss: 0.448\n",
      "[6,  5500] loss: 0.448\n",
      "Finished Training\n"
     ]
    }
   ],
   "source": [
    "for epoch in range(6):  # loop over the dataset multiple times\n",
    "\n",
    "    running_loss = 0.0\n",
    "    for i, data in enumerate(data610_train, 0):\n",
    "        # get the inputs; data is a list of [inputs, labels]\n",
    "        inputs, labels = data\n",
    "        labels = labels-5 # hack b/c labels are 2-9 instead of 0-7\n",
    "        inputs = inputs.to(device)\n",
    "        labels = labels.to(device)\n",
    "\n",
    "        # zero the parameter gradients\n",
    "        optimizer.zero_grad()\n",
    "\n",
    "        # forward + backward + optimize\n",
    "        outputs = model2(inputs)\n",
    "        loss = loss_function(outputs, labels)\n",
    "        loss.backward()\n",
    "        optimizer.step()\n",
    "\n",
    "        # print statistics\n",
    "        running_loss += loss.item()\n",
    "        if i % 500 == 499:    # print every 500 mini-batches\n",
    "            print('[%d, %5d] loss: %.3f' %\n",
    "                  (epoch + 1, i + 1, running_loss / 500))\n",
    "            running_loss = 0.0\n",
    "\n",
    "print('Finished Training')"
   ]
  },
  {
   "cell_type": "markdown",
   "metadata": {
    "id": "UXSl1m-ZJ0Au"
   },
   "source": [
    "Now we see how we can use this model for the first 5 labels."
   ]
  },
  {
   "cell_type": "code",
   "execution_count": 44,
   "metadata": {
    "id": "euRkOEpZIduy"
   },
   "outputs": [],
   "source": [
    "# We define a new model to fine-tune\n",
    "model3 = model2\n",
    "\n"
   ]
  },
  {
   "cell_type": "markdown",
   "metadata": {
    "id": "3SPHjnftt2l3"
   },
   "source": [
    "We have a new model: model3. This model has the same weights as model2, hence it is good at classifying labels, 6-10, and does not know about labels 1-5. We will have to reset and retrain the last layer."
   ]
  },
  {
   "cell_type": "markdown",
   "metadata": {
    "id": "eAJJZ9fYt7pI"
   },
   "source": [
    "## Problem 3\n",
    "\n",
    "Let's pretend that didn't build model3 ourselves. In this case, to reset the last layer, we would need to figure out what its name is (we know it's fc3, but we're pretending we don't).\n",
    "\n",
    "Find a command that will tell you the name and type of the last layer.  Print them out."
   ]
  },
  {
   "cell_type": "code",
   "execution_count": 45,
   "metadata": {},
   "outputs": [
    {
     "name": "stdout",
     "output_type": "stream",
     "text": [
      "Layer name: , Layer type: <class '__main__.ConvNet'>\n",
      "Layer name: relu, Layer type: <class 'torch.nn.modules.activation.ReLU'>\n",
      "Layer name: conv1, Layer type: <class 'torch.nn.modules.conv.Conv2d'>\n",
      "Layer name: pool, Layer type: <class 'torch.nn.modules.pooling.MaxPool2d'>\n",
      "Layer name: conv2, Layer type: <class 'torch.nn.modules.conv.Conv2d'>\n",
      "Layer name: fc1, Layer type: <class 'torch.nn.modules.linear.Linear'>\n",
      "Layer name: fc2, Layer type: <class 'torch.nn.modules.linear.Linear'>\n",
      "Layer name: fc3, Layer type: <class 'torch.nn.modules.linear.Linear'>\n"
     ]
    }
   ],
   "source": [
    "for name, module in model3.named_modules():\n",
    "    print(f\"Layer name: {name}, Layer type: {type(module)}\")"
   ]
  },
  {
   "cell_type": "markdown",
   "metadata": {
    "id": "wyOVUkvzuRgX"
   },
   "source": [
    "## Problem 4\n",
    "\n",
    "If we did the above correctly, then we learned that the last layer is called fc3 and it is a linear layer.\n",
    "\n",
    "We want to redefine it giving a command like\n",
    "\n",
    "```\n",
    "model3.fc3 = nn.Linear(input_features,output_features)\n",
    "```\n",
    "\n",
    "* What should be the value of output_features for our new last layer that we are defining? The answer to this comes from the problem we want to solve.\n",
    "\n",
    "* What is the number of input features that go into this last layer? You'll have to look at the size of the layer defined in the network. Again, pretend we didn't make the network, and we just downloaded it.\n",
    "\n",
    "So in other words, I'm asking you to use commands to find out how many input features there are for the last layer which (we know from above) is called fc3."
   ]
  },
  {
   "cell_type": "code",
   "execution_count": 46,
   "metadata": {},
   "outputs": [
    {
     "name": "stdout",
     "output_type": "stream",
     "text": [
      "Linear(in_features=84, out_features=10, bias=True)\n"
     ]
    }
   ],
   "source": [
    "print(model3.fc3)"
   ]
  },
  {
   "cell_type": "markdown",
   "metadata": {
    "id": "gKswU-QLvemW"
   },
   "source": [
    "## Problem 5\n",
    "\n",
    "Now redefine the last layer. You will do this with a command like\n",
    "```\n",
    "model3.fc3 = # TO DO\n",
    "```\n",
    "Note how important it is for us to know what the names of the layers are."
   ]
  },
  {
   "cell_type": "code",
   "execution_count": 47,
   "metadata": {
    "id": "vnF-H517u6LD"
   },
   "outputs": [
    {
     "name": "stdout",
     "output_type": "stream",
     "text": [
      " ConvNet(\n",
      "  (relu): ReLU()\n",
      "  (conv1): Conv2d(3, 6, kernel_size=(5, 5), stride=(1, 1))\n",
      "  (pool): MaxPool2d(kernel_size=2, stride=2, padding=0, dilation=1, ceil_mode=False)\n",
      "  (conv2): Conv2d(6, 16, kernel_size=(5, 5), stride=(1, 1))\n",
      "  (fc1): Linear(in_features=400, out_features=120, bias=True)\n",
      "  (fc2): Linear(in_features=120, out_features=84, bias=True)\n",
      "  (fc3): Linear(in_features=84, out_features=10, bias=True)\n",
      ")\n",
      "relu ReLU()\n",
      "conv1 Conv2d(3, 6, kernel_size=(5, 5), stride=(1, 1))\n",
      "pool MaxPool2d(kernel_size=2, stride=2, padding=0, dilation=1, ceil_mode=False)\n",
      "conv2 Conv2d(6, 16, kernel_size=(5, 5), stride=(1, 1))\n",
      "fc1 Linear(in_features=400, out_features=120, bias=True)\n",
      "fc2 Linear(in_features=120, out_features=84, bias=True)\n",
      "fc3 Linear(in_features=84, out_features=10, bias=True)\n"
     ]
    }
   ],
   "source": [
    "model3.fc3 = nn.Linear(84, 10)\n",
    "model3 = model3.to(device)\n",
    "model3.train()\n",
    "\n",
    "# Let's again check the layers and see the change we made\n",
    "# (doesn't actually look different since we split 5 and 5)\n",
    "for name, layer in model2.named_modules():\n",
    "  print(name,layer)"
   ]
  },
  {
   "cell_type": "code",
   "execution_count": 48,
   "metadata": {
    "id": "vV-9G6kCTmsK"
   },
   "outputs": [],
   "source": [
    "# Set the optimizer (loss function already set)\n",
    "optimizer = torch.optim.SGD(model3.parameters(), lr=0.001, momentum=0.9)\n",
    "device = torch.device('cuda' if torch.cuda.is_available() else 'cpu')"
   ]
  },
  {
   "cell_type": "markdown",
   "metadata": {
    "id": "00YXXudtvhFi"
   },
   "source": [
    "## Problem 6\n",
    "\n",
    "Check that model3 is no good for classes 1-5. (It shouldn't be any good! We just added a randomly initialized last layer). The accuracy should be close to 20%, which is how good random guessing would be for 5 labels.\n",
    "\n",
    "Evaluate its accuracy on the validation set for labels 1-5."
   ]
  },
  {
   "cell_type": "code",
   "execution_count": 49,
   "metadata": {},
   "outputs": [
    {
     "name": "stdout",
     "output_type": "stream",
     "text": [
      "Validation Accuracy: 5.84%\n"
     ]
    }
   ],
   "source": [
    "# Set the model to evaluation mode\n",
    "model3.eval()\n",
    "\n",
    "# Use the appropriate DataLoader (e.g., data15_val for first 5 labels)\n",
    "dataloader = data15_val\n",
    "\n",
    "# Initialize variables to compute accuracy\n",
    "correct = 0\n",
    "total = 0\n",
    "\n",
    "# Disable gradient computation\n",
    "with torch.no_grad():\n",
    "    for inputs, labels in dataloader:\n",
    "        # Forward pass: compute predictions\n",
    "        outputs = model3(inputs)\n",
    "        _, predicted = torch.max(outputs, 1)  # Get the class index with the highest score\n",
    "\n",
    "        # Update accuracy metrics\n",
    "        total += labels.size(0)  # Total number of samples\n",
    "        correct += (predicted == labels).sum().item()  # Count correct predictions\n",
    "\n",
    "# Calculate and print accuracy\n",
    "accuracy = 100 * correct / total\n",
    "print(f\"Validation Accuracy: {accuracy:.2f}%\")\n"
   ]
  },
  {
   "cell_type": "code",
   "execution_count": 41,
   "metadata": {
    "id": "b75wMgYSOIw8"
   },
   "outputs": [
    {
     "name": "stdout",
     "output_type": "stream",
     "text": [
      "[1,   200] loss: 1.431\n",
      "[1,   400] loss: 1.096\n",
      "[1,   600] loss: 1.022\n",
      "[1,   800] loss: 1.029\n",
      "[1,  1000] loss: 1.023\n",
      "[1,  1200] loss: 1.026\n",
      "[1,  1400] loss: 1.001\n",
      "[1,  1600] loss: 0.939\n",
      "[1,  1800] loss: 0.934\n",
      "[1,  2000] loss: 0.930\n",
      "[1,  2200] loss: 0.916\n",
      "[1,  2400] loss: 0.947\n",
      "[1,  2600] loss: 0.880\n",
      "[1,  2800] loss: 0.950\n",
      "[1,  3000] loss: 0.898\n",
      "[1,  3200] loss: 0.901\n",
      "[1,  3400] loss: 0.922\n",
      "[1,  3600] loss: 0.862\n",
      "[1,  3800] loss: 0.883\n",
      "[1,  4000] loss: 0.930\n",
      "[1,  4200] loss: 0.825\n",
      "[1,  4400] loss: 0.802\n",
      "[1,  4600] loss: 0.835\n",
      "[1,  4800] loss: 0.791\n",
      "[1,  5000] loss: 0.927\n",
      "[1,  5200] loss: 0.889\n",
      "[1,  5400] loss: 0.774\n",
      "[1,  5600] loss: 0.826\n",
      "Finished Training\n"
     ]
    }
   ],
   "source": [
    "# Now we train model3 on the first five labels, and evaluate accuracy.\n",
    "# Nothing for you to do here but run this cell.\n",
    "# Note that we are also just using one single pass, to make it a fair\n",
    "# comparison, and so that we can try to see the benefit of transfer learning.\n",
    "#\n",
    "\n",
    "for epoch in range(1):  # one single pass -- don't change this\n",
    "\n",
    "    running_loss = 0.0\n",
    "    for i, data in enumerate(data15_train, 0):\n",
    "        # get the inputs; data is a list of [inputs, labels]\n",
    "        inputs, labels = data\n",
    "        inputs = inputs.to(device)\n",
    "        labels = labels.to(device)\n",
    "\n",
    "        # zero the parameter gradients\n",
    "        optimizer.zero_grad()\n",
    "\n",
    "        # forward + backward + optimize\n",
    "        outputs = model3(inputs)\n",
    "        loss = loss_function(outputs, labels)\n",
    "        loss.backward()\n",
    "        optimizer.step()\n",
    "\n",
    "        # print statistics\n",
    "        running_loss += loss.item()\n",
    "        if i % 200 == 199:    # print every 200 mini-batches\n",
    "            print('[%d, %5d] loss: %.3f' %\n",
    "                  (epoch + 1, i + 1, running_loss / 200))\n",
    "            running_loss = 0.0\n",
    "\n",
    "print('Finished Training')"
   ]
  },
  {
   "cell_type": "markdown",
   "metadata": {
    "id": "VK3cUPhbwAww"
   },
   "source": [
    "## Problem 7\n",
    "\n",
    "Evaluate the accuracy of model3 (after 1 epoch of training) on the validation set. Compare with the accuracy you found above in Problem 2."
   ]
  },
  {
   "cell_type": "code",
   "execution_count": 43,
   "metadata": {},
   "outputs": [
    {
     "name": "stdout",
     "output_type": "stream",
     "text": [
      "Validation Accuracy: 69.40%\n"
     ]
    }
   ],
   "source": [
    "# Set the model to evaluation mode\n",
    "model3.eval()\n",
    "\n",
    "# Use the appropriate DataLoader (e.g., data15_val for first 5 labels)\n",
    "dataloader = data15_val\n",
    "\n",
    "# Initialize variables to compute accuracy\n",
    "correct = 0\n",
    "total = 0\n",
    "\n",
    "# Disable gradient computation\n",
    "with torch.no_grad():\n",
    "    for inputs, labels in dataloader:\n",
    "        # Forward pass: compute predictions\n",
    "        outputs = model3(inputs)\n",
    "        _, predicted = torch.max(outputs, 1)  # Get the class index with the highest score\n",
    "\n",
    "        # Update accuracy metrics\n",
    "        total += labels.size(0)  # Total number of samples\n",
    "        correct += (predicted == labels).sum().item()  # Count correct predictions\n",
    "\n",
    "# Calculate and print accuracy\n",
    "accuracy = 100 * correct / total\n",
    "print(f\"Validation Accuracy: {accuracy:.2f}%\")\n"
   ]
  },
  {
   "cell_type": "markdown",
   "metadata": {},
   "source": [
    "The Validation Accuracy is much higher at 69.4% compared to the 57.33% accuracy from the previous model, proving the effectiveness of transfer learning."
   ]
  }
 ],
 "metadata": {
  "colab": {
   "provenance": []
  },
  "kernelspec": {
   "display_name": "base",
   "language": "python",
   "name": "python3"
  },
  "language_info": {
   "codemirror_mode": {
    "name": "ipython",
    "version": 3
   },
   "file_extension": ".py",
   "mimetype": "text/x-python",
   "name": "python",
   "nbconvert_exporter": "python",
   "pygments_lexer": "ipython3",
   "version": "3.9.13"
  }
 },
 "nbformat": 4,
 "nbformat_minor": 4
}
